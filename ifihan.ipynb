{
 "cells": [
  {
   "cell_type": "code",
   "execution_count": 1,
   "metadata": {},
   "outputs": [],
   "source": [
    "import pandas as pd"
   ]
  },
  {
   "cell_type": "code",
   "execution_count": 21,
   "metadata": {},
   "outputs": [],
   "source": [
    "data = pd.read_csv('TNC Certificate.csv')"
   ]
  },
  {
   "cell_type": "code",
   "execution_count": 22,
   "metadata": {},
   "outputs": [
    {
     "data": {
      "text/plain": [
       "S/N       0\n",
       "NAME     10\n",
       "EMAIL     8\n",
       "TIME      0\n",
       "dtype: int64"
      ]
     },
     "execution_count": 22,
     "metadata": {},
     "output_type": "execute_result"
    }
   ],
   "source": [
    "data.isnull().sum()"
   ]
  },
  {
   "cell_type": "code",
   "execution_count": 116,
   "metadata": {},
   "outputs": [],
   "source": [
    "data.dropna(inplace=True)"
   ]
  },
  {
   "cell_type": "code",
   "execution_count": 117,
   "metadata": {},
   "outputs": [
    {
     "data": {
      "text/plain": [
       "492"
      ]
     },
     "execution_count": 117,
     "metadata": {},
     "output_type": "execute_result"
    }
   ],
   "source": [
    "len([x for x in data['NAME'].value_counts() if x >=0])"
   ]
  },
  {
   "cell_type": "code",
   "execution_count": 121,
   "metadata": {},
   "outputs": [
    {
     "data": {
      "text/plain": [
       "492"
      ]
     },
     "execution_count": 121,
     "metadata": {},
     "output_type": "execute_result"
    }
   ],
   "source": [
    "len(data.NAME.unique())"
   ]
  },
  {
   "cell_type": "code",
   "execution_count": 122,
   "metadata": {},
   "outputs": [
    {
     "data": {
      "text/plain": [
       "(830, 4)"
      ]
     },
     "execution_count": 122,
     "metadata": {},
     "output_type": "execute_result"
    }
   ],
   "source": [
    "data.shape"
   ]
  },
  {
   "cell_type": "code",
   "execution_count": 123,
   "metadata": {},
   "outputs": [
    {
     "data": {
      "text/plain": [
       "(480,)"
      ]
     },
     "execution_count": 123,
     "metadata": {},
     "output_type": "execute_result"
    }
   ],
   "source": [
    "name = data[['NAME', 'EMAIL']]\n",
    "name['EMAIL'].unique().shape\n",
    "# name.shape"
   ]
  },
  {
   "cell_type": "code",
   "execution_count": 145,
   "metadata": {},
   "outputs": [],
   "source": [
    "names, emails=[], []\n",
    "for d in data[['NAME', 'EMAIL']].values:\n",
    "    if len(data[data['NAME']==d[0]]) >= 5 and (d[0] not in names):\n",
    "        names.append(d[0])\n",
    "        emails.append(d[1])"
   ]
  },
  {
   "cell_type": "code",
   "execution_count": 146,
   "metadata": {},
   "outputs": [
    {
     "data": {
      "text/plain": [
       "(33, 33)"
      ]
     },
     "execution_count": 146,
     "metadata": {},
     "output_type": "execute_result"
    }
   ],
   "source": [
    "len(names), len(emails)"
   ]
  },
  {
   "cell_type": "code",
   "execution_count": 147,
   "metadata": {},
   "outputs": [
    {
     "data": {
      "text/html": [
       "<div>\n",
       "<style scoped>\n",
       "    .dataframe tbody tr th:only-of-type {\n",
       "        vertical-align: middle;\n",
       "    }\n",
       "\n",
       "    .dataframe tbody tr th {\n",
       "        vertical-align: top;\n",
       "    }\n",
       "\n",
       "    .dataframe thead th {\n",
       "        text-align: right;\n",
       "    }\n",
       "</style>\n",
       "<table border=\"1\" class=\"dataframe\">\n",
       "  <thead>\n",
       "    <tr style=\"text-align: right;\">\n",
       "      <th></th>\n",
       "      <th>names</th>\n",
       "      <th>emails</th>\n",
       "    </tr>\n",
       "  </thead>\n",
       "  <tbody>\n",
       "    <tr>\n",
       "      <th>0</th>\n",
       "      <td>Sodiq Akinjobi</td>\n",
       "      <td>admin@gmail.com</td>\n",
       "    </tr>\n",
       "    <tr>\n",
       "      <th>1</th>\n",
       "      <td>Ezeokoye Ifunanya Benedicta</td>\n",
       "      <td>ifunanya306@gmail.com</td>\n",
       "    </tr>\n",
       "    <tr>\n",
       "      <th>2</th>\n",
       "      <td>Delight Oyende</td>\n",
       "      <td>toluwanimik@gmail.com</td>\n",
       "    </tr>\n",
       "    <tr>\n",
       "      <th>3</th>\n",
       "      <td>Miracle Ogunleye</td>\n",
       "      <td>ogunleyeolamide01@gmail.com</td>\n",
       "    </tr>\n",
       "    <tr>\n",
       "      <th>4</th>\n",
       "      <td>Araoye Mohammedfirdous Ayomilekan</td>\n",
       "      <td>ayomilekanaraoye@gmail.com</td>\n",
       "    </tr>\n",
       "    <tr>\n",
       "      <th>5</th>\n",
       "      <td>ARPAN KUMAR</td>\n",
       "      <td>arparpanyadav1998@gmail.com</td>\n",
       "    </tr>\n",
       "    <tr>\n",
       "      <th>6</th>\n",
       "      <td>Adebiyi Stephen</td>\n",
       "      <td>stephenadebiyi16@gmail.com</td>\n",
       "    </tr>\n",
       "    <tr>\n",
       "      <th>7</th>\n",
       "      <td>Nwatu Chisomeje</td>\n",
       "      <td>roselinejeada@gmail.com</td>\n",
       "    </tr>\n",
       "    <tr>\n",
       "      <th>8</th>\n",
       "      <td>Salami Oluwatoyin Mariam</td>\n",
       "      <td>oluwatoyinmariam835@yahoo.com</td>\n",
       "    </tr>\n",
       "    <tr>\n",
       "      <th>9</th>\n",
       "      <td>Marvel Ogunleye</td>\n",
       "      <td>ogunleyemarvel@gmail.com</td>\n",
       "    </tr>\n",
       "    <tr>\n",
       "      <th>10</th>\n",
       "      <td>Eke John Igwe</td>\n",
       "      <td>stephenjohn5646@gmail.com</td>\n",
       "    </tr>\n",
       "    <tr>\n",
       "      <th>11</th>\n",
       "      <td>Raji Mustapha Ademola</td>\n",
       "      <td>rajimustapha30@gmail.com</td>\n",
       "    </tr>\n",
       "    <tr>\n",
       "      <th>12</th>\n",
       "      <td>Oladeji Emmanuel</td>\n",
       "      <td>oladejiemmanuel2018@gmail.com</td>\n",
       "    </tr>\n",
       "    <tr>\n",
       "      <th>13</th>\n",
       "      <td>Adekunle Abdullahi</td>\n",
       "      <td>Abdullahiopeyemiadekunle@gmail.com</td>\n",
       "    </tr>\n",
       "    <tr>\n",
       "      <th>14</th>\n",
       "      <td>Oni Joshua Oluwafemi</td>\n",
       "      <td>onijoshua044@gmail.com</td>\n",
       "    </tr>\n",
       "    <tr>\n",
       "      <th>15</th>\n",
       "      <td>Joseph Chisom Anyanwu</td>\n",
       "      <td>chisomjoe4620@gmail.com</td>\n",
       "    </tr>\n",
       "    <tr>\n",
       "      <th>16</th>\n",
       "      <td>Odewande Oluwasegun Samuel</td>\n",
       "      <td>segunwande2206@gmail.com</td>\n",
       "    </tr>\n",
       "    <tr>\n",
       "      <th>17</th>\n",
       "      <td>Ojo Oluwapelumi</td>\n",
       "      <td>ojooluwapelumi2018@gmail.com</td>\n",
       "    </tr>\n",
       "    <tr>\n",
       "      <th>18</th>\n",
       "      <td>Okom Covenant John</td>\n",
       "      <td>covegenius@gmail.com</td>\n",
       "    </tr>\n",
       "    <tr>\n",
       "      <th>19</th>\n",
       "      <td>Akinwande Akinboluwarin</td>\n",
       "      <td>akinwandeakinboluwarin@gmail.com</td>\n",
       "    </tr>\n",
       "    <tr>\n",
       "      <th>20</th>\n",
       "      <td>Balogun Munirat Ayomide</td>\n",
       "      <td>ayomidemunirat327@gmail.com</td>\n",
       "    </tr>\n",
       "    <tr>\n",
       "      <th>21</th>\n",
       "      <td>Adefarati Oluwatosin isaac</td>\n",
       "      <td>Oluwatosinisaac26@gmail.com</td>\n",
       "    </tr>\n",
       "    <tr>\n",
       "      <th>22</th>\n",
       "      <td>Ezike Kodi</td>\n",
       "      <td>kodiezzy@gmail.com</td>\n",
       "    </tr>\n",
       "    <tr>\n",
       "      <th>23</th>\n",
       "      <td>Ayopo Bankole</td>\n",
       "      <td>quacecode@gmail.com</td>\n",
       "    </tr>\n",
       "    <tr>\n",
       "      <th>24</th>\n",
       "      <td>Shonola Jedidiah Halleluyah</td>\n",
       "      <td>shonolajedidiah@gmail.com</td>\n",
       "    </tr>\n",
       "    <tr>\n",
       "      <th>25</th>\n",
       "      <td>Aisha Disu</td>\n",
       "      <td>Missloladami@gmail.com</td>\n",
       "    </tr>\n",
       "    <tr>\n",
       "      <th>26</th>\n",
       "      <td>Okoneyo Etieneobong Peter</td>\n",
       "      <td>gabrielokoneyo@gmail.com</td>\n",
       "    </tr>\n",
       "    <tr>\n",
       "      <th>27</th>\n",
       "      <td>Ganiyu Ibukunoluwa Eniola</td>\n",
       "      <td>www.Ibukunoluwaganiyu@gmail.com</td>\n",
       "    </tr>\n",
       "    <tr>\n",
       "      <th>28</th>\n",
       "      <td>Arafah Ogunfemi</td>\n",
       "      <td>ayobamiarafat09@gmail.com</td>\n",
       "    </tr>\n",
       "    <tr>\n",
       "      <th>29</th>\n",
       "      <td>Olalekan oluwafunso ponle</td>\n",
       "      <td>funsoolalekan@gmail.com</td>\n",
       "    </tr>\n",
       "    <tr>\n",
       "      <th>30</th>\n",
       "      <td>Oyawole Oluwadamilola</td>\n",
       "      <td>oyawoledamilola01@gmail.com</td>\n",
       "    </tr>\n",
       "    <tr>\n",
       "      <th>31</th>\n",
       "      <td>Suleiman Sakariyah</td>\n",
       "      <td>ayodelesuleiman@gmail.com</td>\n",
       "    </tr>\n",
       "    <tr>\n",
       "      <th>32</th>\n",
       "      <td>Bamgbola Samuel Aduragbemi</td>\n",
       "      <td>samuelbamgbola@gmail.com</td>\n",
       "    </tr>\n",
       "  </tbody>\n",
       "</table>\n",
       "</div>"
      ],
      "text/plain": [
       "                                names                              emails\n",
       "0                      Sodiq Akinjobi                     admin@gmail.com\n",
       "1         Ezeokoye Ifunanya Benedicta               ifunanya306@gmail.com\n",
       "2                      Delight Oyende               toluwanimik@gmail.com\n",
       "3                    Miracle Ogunleye         ogunleyeolamide01@gmail.com\n",
       "4   Araoye Mohammedfirdous Ayomilekan          ayomilekanaraoye@gmail.com\n",
       "5                         ARPAN KUMAR         arparpanyadav1998@gmail.com\n",
       "6                     Adebiyi Stephen          stephenadebiyi16@gmail.com\n",
       "7                     Nwatu Chisomeje             roselinejeada@gmail.com\n",
       "8            Salami Oluwatoyin Mariam       oluwatoyinmariam835@yahoo.com\n",
       "9                     Marvel Ogunleye            ogunleyemarvel@gmail.com\n",
       "10                      Eke John Igwe           stephenjohn5646@gmail.com\n",
       "11              Raji Mustapha Ademola            rajimustapha30@gmail.com\n",
       "12                   Oladeji Emmanuel       oladejiemmanuel2018@gmail.com\n",
       "13                 Adekunle Abdullahi  Abdullahiopeyemiadekunle@gmail.com\n",
       "14               Oni Joshua Oluwafemi              onijoshua044@gmail.com\n",
       "15              Joseph Chisom Anyanwu             chisomjoe4620@gmail.com\n",
       "16         Odewande Oluwasegun Samuel            segunwande2206@gmail.com\n",
       "17                    Ojo Oluwapelumi        ojooluwapelumi2018@gmail.com\n",
       "18                 Okom Covenant John                covegenius@gmail.com\n",
       "19            Akinwande Akinboluwarin    akinwandeakinboluwarin@gmail.com\n",
       "20            Balogun Munirat Ayomide         ayomidemunirat327@gmail.com\n",
       "21         Adefarati Oluwatosin isaac         Oluwatosinisaac26@gmail.com\n",
       "22                         Ezike Kodi                  kodiezzy@gmail.com\n",
       "23                      Ayopo Bankole                 quacecode@gmail.com\n",
       "24        Shonola Jedidiah Halleluyah           shonolajedidiah@gmail.com\n",
       "25                         Aisha Disu              Missloladami@gmail.com\n",
       "26          Okoneyo Etieneobong Peter            gabrielokoneyo@gmail.com\n",
       "27          Ganiyu Ibukunoluwa Eniola     www.Ibukunoluwaganiyu@gmail.com\n",
       "28                    Arafah Ogunfemi           ayobamiarafat09@gmail.com\n",
       "29          Olalekan oluwafunso ponle             funsoolalekan@gmail.com\n",
       "30              Oyawole Oluwadamilola         oyawoledamilola01@gmail.com\n",
       "31                 Suleiman Sakariyah           ayodelesuleiman@gmail.com\n",
       "32         Bamgbola Samuel Aduragbemi            samuelbamgbola@gmail.com"
      ]
     },
     "execution_count": 147,
     "metadata": {},
     "output_type": "execute_result"
    }
   ],
   "source": [
    "#This dataframe contains the number of people that attended more than 5 times for the program\n",
    "pd.DataFrame({'names': names, 'emails': emails})"
   ]
  },
  {
   "cell_type": "code",
   "execution_count": 166,
   "metadata": {},
   "outputs": [],
   "source": [
    "name, email=[], []\n",
    "for d in data[['NAME', 'EMAIL']].values:\n",
    "    if len(data[data['NAME']==d[0]]) > 0 and (d[0] not in name):\n",
    "        name.append(d[0])\n",
    "        email.append(d[1])"
   ]
  },
  {
   "cell_type": "code",
   "execution_count": 167,
   "metadata": {},
   "outputs": [
    {
     "data": {
      "text/plain": [
       "(492, 492)"
      ]
     },
     "execution_count": 167,
     "metadata": {},
     "output_type": "execute_result"
    }
   ],
   "source": [
    "len(name), len(email)"
   ]
  },
  {
   "cell_type": "code",
   "execution_count": 171,
   "metadata": {},
   "outputs": [
    {
     "data": {
      "text/html": [
       "<div>\n",
       "<style scoped>\n",
       "    .dataframe tbody tr th:only-of-type {\n",
       "        vertical-align: middle;\n",
       "    }\n",
       "\n",
       "    .dataframe tbody tr th {\n",
       "        vertical-align: top;\n",
       "    }\n",
       "\n",
       "    .dataframe thead th {\n",
       "        text-align: right;\n",
       "    }\n",
       "</style>\n",
       "<table border=\"1\" class=\"dataframe\">\n",
       "  <thead>\n",
       "    <tr style=\"text-align: right;\">\n",
       "      <th></th>\n",
       "      <th>names</th>\n",
       "      <th>emails</th>\n",
       "    </tr>\n",
       "  </thead>\n",
       "  <tbody>\n",
       "    <tr>\n",
       "      <th>0</th>\n",
       "      <td>Sodiq Akinjobi</td>\n",
       "      <td>admin@gmail.com</td>\n",
       "    </tr>\n",
       "    <tr>\n",
       "      <th>1</th>\n",
       "      <td>Shuaib Abdulmuqit</td>\n",
       "      <td>horleryeeworler@gmail.com</td>\n",
       "    </tr>\n",
       "    <tr>\n",
       "      <th>2</th>\n",
       "      <td>Ruth Moroluwa Ojo</td>\n",
       "      <td>ojoruth192@gmail.com</td>\n",
       "    </tr>\n",
       "    <tr>\n",
       "      <th>3</th>\n",
       "      <td>Kutu Sarah Motunrayo</td>\n",
       "      <td>sarahmotunrayo98@gmail.com</td>\n",
       "    </tr>\n",
       "    <tr>\n",
       "      <th>4</th>\n",
       "      <td>OLUWADAISI PRAISE OGOJESU</td>\n",
       "      <td>oluwadaisipraise26@gmail.com</td>\n",
       "    </tr>\n",
       "  </tbody>\n",
       "</table>\n",
       "</div>"
      ],
      "text/plain": [
       "                       names                        emails\n",
       "0             Sodiq Akinjobi               admin@gmail.com\n",
       "1          Shuaib Abdulmuqit     horleryeeworler@gmail.com\n",
       "2          Ruth Moroluwa Ojo          ojoruth192@gmail.com\n",
       "3       Kutu Sarah Motunrayo    sarahmotunrayo98@gmail.com\n",
       "4  OLUWADAISI PRAISE OGOJESU  oluwadaisipraise26@gmail.com"
      ]
     },
     "execution_count": 171,
     "metadata": {},
     "output_type": "execute_result"
    }
   ],
   "source": [
    "# This contains number of people that attended the program at least once with no repetitive names \n",
    "people = pd.DataFrame({'names': name, 'emails': email})\n",
    "people.head()"
   ]
  },
  {
   "cell_type": "code",
   "execution_count": 195,
   "metadata": {},
   "outputs": [
    {
     "data": {
      "text/html": [
       "<div>\n",
       "<style scoped>\n",
       "    .dataframe tbody tr th:only-of-type {\n",
       "        vertical-align: middle;\n",
       "    }\n",
       "\n",
       "    .dataframe tbody tr th {\n",
       "        vertical-align: top;\n",
       "    }\n",
       "\n",
       "    .dataframe thead th {\n",
       "        text-align: right;\n",
       "    }\n",
       "</style>\n",
       "<table border=\"1\" class=\"dataframe\">\n",
       "  <thead>\n",
       "    <tr style=\"text-align: right;\">\n",
       "      <th></th>\n",
       "      <th>names</th>\n",
       "      <th>emails</th>\n",
       "    </tr>\n",
       "  </thead>\n",
       "  <tbody>\n",
       "    <tr>\n",
       "      <th>234</th>\n",
       "      <td>Arafah Ogunfemi</td>\n",
       "      <td>ayobamiarafat09@gmail.com</td>\n",
       "    </tr>\n",
       "    <tr>\n",
       "      <th>235</th>\n",
       "      <td>Betiku Oluwatobi</td>\n",
       "      <td>anthonytobynho@gmail.com</td>\n",
       "    </tr>\n",
       "    <tr>\n",
       "      <th>236</th>\n",
       "      <td>Rafiu Hammed</td>\n",
       "      <td>livelinksinfographix@gmail.com</td>\n",
       "    </tr>\n",
       "    <tr>\n",
       "      <th>237</th>\n",
       "      <td>Itunuoluwa Mercy Nwosu</td>\n",
       "      <td>mercytunz@gmail.com</td>\n",
       "    </tr>\n",
       "    <tr>\n",
       "      <th>238</th>\n",
       "      <td>Ayomipo olamipo</td>\n",
       "      <td>ayomipoolamipo85@gmail.com</td>\n",
       "    </tr>\n",
       "    <tr>\n",
       "      <th>...</th>\n",
       "      <td>...</td>\n",
       "      <td>...</td>\n",
       "    </tr>\n",
       "    <tr>\n",
       "      <th>487</th>\n",
       "      <td>Wetter Dash</td>\n",
       "      <td>wetterdash7809@gmail.com</td>\n",
       "    </tr>\n",
       "    <tr>\n",
       "      <th>488</th>\n",
       "      <td>Joe</td>\n",
       "      <td>test@test.com</td>\n",
       "    </tr>\n",
       "    <tr>\n",
       "      <th>489</th>\n",
       "      <td>H</td>\n",
       "      <td>h@h.c</td>\n",
       "    </tr>\n",
       "    <tr>\n",
       "      <th>490</th>\n",
       "      <td>Nwanne Nnamdi</td>\n",
       "      <td>nwannennamdi@gmail.com</td>\n",
       "    </tr>\n",
       "    <tr>\n",
       "      <th>491</th>\n",
       "      <td>Adejumo Samuel</td>\n",
       "      <td>adejumosamuel00@gmail.com</td>\n",
       "    </tr>\n",
       "  </tbody>\n",
       "</table>\n",
       "<p>258 rows × 2 columns</p>\n",
       "</div>"
      ],
      "text/plain": [
       "                      names                          emails\n",
       "234         Arafah Ogunfemi       ayobamiarafat09@gmail.com\n",
       "235        Betiku Oluwatobi        anthonytobynho@gmail.com\n",
       "236            Rafiu Hammed  livelinksinfographix@gmail.com\n",
       "237  Itunuoluwa Mercy Nwosu             mercytunz@gmail.com\n",
       "238         Ayomipo olamipo      ayomipoolamipo85@gmail.com\n",
       "..                      ...                             ...\n",
       "487             Wetter Dash        wetterdash7809@gmail.com\n",
       "488                     Joe                   test@test.com\n",
       "489                       H                           h@h.c\n",
       "490           Nwanne Nnamdi          nwannennamdi@gmail.com\n",
       "491          Adejumo Samuel       adejumosamuel00@gmail.com\n",
       "\n",
       "[258 rows x 2 columns]"
      ]
     },
     "execution_count": 195,
     "metadata": {},
     "output_type": "execute_result"
    }
   ],
   "source": [
    "#This contains number of participants that from the 234th row with no repetitions\n",
    "people.iloc[234:]"
   ]
  },
  {
   "cell_type": "markdown",
   "metadata": {},
   "source": [
    "<h3>If you try to message me before 2 pm today, I'm already sleeping ma. I think I need the sleep and I finshed your task ma.\n",
    "</h3>\n",
    "    \n",
    "<footer>&copyright Sodiq Agunbiade</footer>"
   ]
  },
  {
   "cell_type": "code",
   "execution_count": null,
   "metadata": {},
   "outputs": [],
   "source": []
  }
 ],
 "metadata": {
  "kernelspec": {
   "display_name": "Python 3",
   "language": "python",
   "name": "python3"
  },
  "language_info": {
   "codemirror_mode": {
    "name": "ipython",
    "version": 3
   },
   "file_extension": ".py",
   "mimetype": "text/x-python",
   "name": "python",
   "nbconvert_exporter": "python",
   "pygments_lexer": "ipython3",
   "version": "3.7.4"
  }
 },
 "nbformat": 4,
 "nbformat_minor": 4
}
